{
 "cells": [
  {
   "cell_type": "code",
   "execution_count": 1,
   "metadata": {},
   "outputs": [],
   "source": [
    "import sys\n",
    "import os\n",
    "import copy\n",
    "from abc import ABC, abstractmethod\n",
    "import math\n",
    "import copy\n",
    "from copy import deepcopy\n",
    "import PIL\n",
    "from skimage.color import rgb2gray\n",
    "from skimage.filters import threshold_otsu\n",
    "import torchvision\n",
    "import torchvision.models as torchmodels\n",
    "import torch.nn.functional as F\n",
    "import openslide\n",
    "import torch.utils.data\n",
    "\n",
    "list_pathstoadd = [\"../../\"]\n",
    "for path in list_pathstoadd:\n",
    "    if(path not in sys.path):\n",
    "        sys.path.append(path)\n",
    "import pydmed\n",
    "from pydmed.utils.data import *\n",
    "import pydmed.lightdl\n",
    "from pydmed.lightdl import *"
   ]
  },
  {
   "cell_type": "code",
   "execution_count": null,
   "metadata": {},
   "outputs": [],
   "source": []
  }
 ],
 "metadata": {
  "kernelspec": {
   "display_name": "Python 3",
   "language": "python",
   "name": "python3"
  },
  "language_info": {
   "codemirror_mode": {
    "name": "ipython",
    "version": 3
   },
   "file_extension": ".py",
   "mimetype": "text/x-python",
   "name": "python",
   "nbconvert_exporter": "python",
   "pygments_lexer": "ipython3",
   "version": "3.7.10"
  }
 },
 "nbformat": 4,
 "nbformat_minor": 4
}
